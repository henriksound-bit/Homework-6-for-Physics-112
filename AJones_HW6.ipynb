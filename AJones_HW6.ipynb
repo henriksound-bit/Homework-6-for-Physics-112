{
 "cells": [
  {
   "cell_type": "markdown",
   "metadata": {
    "pycharm": {
     "name": "#%% md\n"
    }
   },
   "source": [
    " Alex Jones <br>\n",
    "PHYS 112 <br>\n",
    "Dr. A.M. Barr <br>\n",
    "\n",
    "## Homework #6\n",
    "\n",
    "1. <br> a) Only the diver will see the mirror as being very bright.\n",
    "The light rays are traveling in the same constant direction until they\n",
    "encounter the specular reflection of the mirror. When the light rays hit the mirror,\n",
    "they will reflect away at the same angle that they hit the mirror at. \n",
    "<br> b) The mirror appears much brighter because the index of reflection on the mirror \n",
    "is much higher than any of the other objects surrounding it. This means that almost of\n",
    "the light that hits it will be reflected away, making it appear brighter than other,\n",
    "less reflective objects.\n",
    "<br><br>\n",
    "_When light travels from less dense to more dense it bends towards normal._ <br>\n",
    "_When light travels from more dense to less dense it bends away from normal._ <br>\n",
    "2. <br> a) <br> i. $n_1 > n_2$\n",
    "<br> ii. $n_4 > n_3$\n",
    "<br> iii. $n_5 > n_6$\n",
    "<br> iv. $n_7 > n_8$\n",
    "<br> b) <img src=\"IMG_0164.jpg\" />\n",
    "<br><br>\n",
    "\n",
    "3. <br> a) It will diverge. <br>\n",
    "<img src=\"IMG_0165.jpg\">\n",
    "<br>\n",
    "b) <img src = \"IMG_0165 2.jpg\"><br>\n",
    "\n",
    "4. <br> When the plastic is removed, the height of the shadow will decrease. The\n",
    "   plastic's higher index of refraction causes each incident ray that travels through\n",
    "   it to travel \"upward\", or be displaced, increasing the shadow height. This happens twice, as a ray\n",
    "   goes from air to plastic, and as the ray goes from plastic to air.<br>\n",
    "<img src = \"IMG_0180.jpg\"> <br>\n",
    " <br>\n",
    " <img src = \"IMG_0180 2.jpg\"> <br>\n",
    "\n",
    "5. <br>\n",
    "a) The location of the image will stay the same. <br>\n",
    "b) The image will stay the same size. <br>\n",
    "c) The angular size of the image will decrease. <br>\n",
    "d) The location of the image will stay the same. Rays of light hit the arrow from\n",
    "all angles, which then reflect to all points on the mirror. As the observer shifts\n",
    "location, the rays that reflect to the observers eyes will maintain the virtual\n",
    "image location. <br>\n",
    "e) The location of the image will move. <br>\n",
    "f) The size of the image will remain the same.\n",
    "<img src = \"IMG_0182.jpg\"> <br>\n",
    "g) The angular size of the image will increase. <br>\n",
    "<br>\n",
    "\n",
    "6. <br> $\\lambda = 600 nm$ <br> $k = 1 + \\frac{1}{2} = \\frac{3}{2}$ <br>\n",
    "$d =\\frac{ k \\times \\lambda}{sin (\\theta)}$"
   ]
  },
  {
   "cell_type": "code",
   "execution_count": 1,
   "metadata": {
    "pycharm": {
     "is_executing": false,
     "name": "#%%\n"
    }
   },
   "outputs": [
    {
     "name": "stdout",
     "output_type": "stream",
     "text": [
      "The minimum distance is 2037.0079838937777 nm.\n"
     ]
    }
   ],
   "source": [
    "import math\n",
    "def nm_to_m(x):\n",
    "    return x * (1 * 10**(-9))\n",
    "\n",
    "def m_to_nm(x):\n",
    "    return x * (1 * 10**9)\n",
    "\n",
    "def calc_slit_distance(k, theta, lam_nm):\n",
    "    lam_m = nm_to_m(lam_nm)\n",
    "    d = ( k * lam_m) / math.sin(theta)\n",
    "    return m_to_nm(d)\n",
    "\n",
    "k = 1  # first order bright spot\n",
    "wavelength = 600 # wavelength in nanometers\n",
    "theta = 90 # minimum angle for first order bright spot\n",
    "min_distance = calc_slit_distance(k, wavelength, theta)\n",
    "print(\"The minimum distance is \" + str(min_distance) + \" nm.\")"
   ]
  },
  {
   "cell_type": "markdown",
   "metadata": {},
   "source": [
    "7.<br>\n",
    "$\\lambda = 500 nm$ <br>\n",
    "$L = 1 m$ <br>\n",
    "$m = 1 + \\frac{1}{2}$ <br>\n",
    "$m \\times tan(\\theta) = \\frac{y_m}{L} \\rightarrow y_m = m \\times L \\times tan(\\theta)$ <br>\n",
    "$y_m = \\frac{1}{2} w$<br>\n",
    "$ w = 2 tan(\\theta)$<br>\n",
    "$ sin(\\theta) = \\frac{\\vartriangle r}{d}$  where  $\\vartriangle r = m \\times \\lambda$ <br>\n",
    "$ W = \\frac{ m \\times \\lambda}{sin(\\theta_m)} $ <br>\n"
   ]
  },
  {
   "cell_type": "code",
   "execution_count": 4,
   "metadata": {
    "pycharm": {
     "is_executing": false,
     "name": "#%%\n"
    }
   },
   "outputs": [
    {
     "name": "stdout",
     "output_type": "stream",
     "text": [
      "The width of the slit must be 559.2862035818542 nm to have the same width as the wavelength of the laser.\n"
     ]
    }
   ],
   "source": [
    "import math\n",
    "\n",
    "def calc_slit_width(m, wavelength, theta):\n",
    "    lam_m = nm_to_m(wavelength)\n",
    "    width = (m * lam_m) / math.sin(theta)\n",
    "    return m_to_nm(width)\n",
    "\n",
    "order = 1\n",
    "wavelength = 500\n",
    "theta = 90\n",
    "D = 1 # meters\n",
    "\n",
    "width = calc_slit_width(order, wavelength, theta)\n",
    "print(\"The width of the slit must be \" + str(width) + \" nm to have the same width as the wavelength of the laser.\")"
   ]
  },
  {
   "cell_type": "markdown",
   "metadata": {
    "pycharm": {
     "name": "#%% md\n"
    }
   },
   "source": [
    "8. <br>\n",
    "a) Since $ \\theta_2 > \\theta_1 $, then $n_1 >n_2$. <br>\n",
    "$\\frac{v_1}{v_2} = \\frac{n_2}{n_1} \\rightarrow n_1 \\times v_1 = n_2 \\times v_2$<br>\n",
    "$v_2 > v_1$ therefore $n_1 > n_2$ <br>\n",
    "b) The light has a shorter wavelength in material 1 since $n_1 > n_2$. The larger the index of refraction is,\n",
    "light willt ravel through it slower. Frequency remains constant, and so with a slower wave speed,\n",
    "wavelength must decrease. <br>\n",
    "c) Frequency is the same in both materials, because frequency is inherently constant. <br>\n",
    "d) <img src=\"IMG_0183.jpg\">\n"
   ]
  }
 ],
 "metadata": {
  "kernelspec": {
   "display_name": "Python 3",
   "language": "python",
   "name": "python3"
  },
  "language_info": {
   "codemirror_mode": {
    "name": "ipython",
    "version": 3
   },
   "file_extension": ".py",
   "mimetype": "text/x-python",
   "name": "python",
   "nbconvert_exporter": "python",
   "pygments_lexer": "ipython3",
   "version": "3.8.0"
  },
  "pycharm": {
   "stem_cell": {
    "cell_type": "raw",
    "metadata": {
     "collapsed": false
    },
    "source": []
   }
  }
 },
 "nbformat": 4,
 "nbformat_minor": 1
}
